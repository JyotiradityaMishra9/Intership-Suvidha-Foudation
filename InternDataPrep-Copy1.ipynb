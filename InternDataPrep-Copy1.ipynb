{
 "cells": [
  {
   "cell_type": "markdown",
   "id": "76407cc7-6dcc-43ac-8602-efb5ac41ae11",
   "metadata": {},
   "source": [
    "### Importing all Needed Libraries"
   ]
  },
  {
   "cell_type": "code",
   "execution_count": 1,
   "id": "10a2753d-9e9a-4942-9435-7dd3c3ee9a8b",
   "metadata": {},
   "outputs": [],
   "source": [
    "# Importing Selenium Related Dependencies\n",
    "from selenium import webdriver \n",
    "from selenium.webdriver.chrome.service import Service\n",
    "from webdriver_manager.chrome import ChromeDriverManager\n",
    "from selenium.webdriver.common.by import By\n",
    "from selenium.webdriver.support.ui import WebDriverWait\n",
    "from selenium.webdriver.support import expected_conditions as EC\n",
    "# For Editing various components of URLs\n",
    "import time\n",
    "import re\n",
    "import random\n",
    "import os\n",
    "from datetime import datetime, timedelta\n",
    "# For Accessing Geminni\n",
    "import google.generativeai as genai\n",
    "# For Reminder as task was long\n",
    "import winsound"
   ]
  },
  {
   "cell_type": "markdown",
   "id": "e143ff58-3b70-48ac-9ef6-d5a41e56f0dc",
   "metadata": {},
   "source": [
    "# Creating Functions"
   ]
  },
  {
   "cell_type": "markdown",
   "id": "22484609-bb43-4e93-8eca-91066078f180",
   "metadata": {},
   "source": [
    "## Extract Article URLS from TOI Archives"
   ]
  },
  {
   "cell_type": "markdown",
   "id": "efc5a807-2c49-4488-9a17-4584fdc5d9e5",
   "metadata": {},
   "source": [
    " Urls for articles are present on date by date basic which can be accessed a url that references to a particular date \n",
    " Eg URL- https://timesofindia.indiatimes.com/2011/2/3/archivelist/year-2011,month-2,starttime-40577.cms\n",
    " The Basic Structure is Consistent with difference at \"/2011/2/3/)\" and at \"year-2011,month-2,starttime-40577\" these can be calculated using python codes for a specific date starttime on 1 jan 2003 is 37622 and increments by 1 for each day these properties can be used to extract date wise URL for links to list of articles on that day"
   ]
  },
  {
   "cell_type": "code",
   "execution_count": 2,
   "id": "11e51027-ee56-4724-a87e-7148eaa859d3",
   "metadata": {},
   "outputs": [],
   "source": [
    "# Here I have created a function that generates the article links archive for a random date between a range\n",
    "def generate_random_url(reference_date_str=\"01/01/2003\", base_start_time=37622):\n",
    "    start_date = datetime.strptime(\"01/01/2003\", \"%d/%m/%Y\")\n",
    "    end_date = datetime.strptime(\"31/12/2023\", \"%d/%m/%Y\") #Range of Dates\n",
    "    \n",
    "    delta = end_date - start_date\n",
    "    random_days = random.randrange(delta.days + 1)\n",
    "    random_date = start_date + timedelta(days=random_days) #Random date and Related Calculation\n",
    "    \n",
    "    reference_date = datetime.strptime(reference_date_str, \"%d/%m/%Y\")\n",
    "    delta_days = (random_date - reference_date).days\n",
    "    \n",
    "    start_time = base_start_time + delta_days\n",
    "    \n",
    "    url = f\"https://timesofindia.indiatimes.com/{random_date.year}/{random_date.month}/{random_date.day}/archivelist/year-{random_date.year},month-{random_date.month},starttime-{start_time}.cms\"\n",
    "    return url # Returning the generated URL"
   ]
  },
  {
   "attachments": {},
   "cell_type": "markdown",
   "id": "9a37086f-0814-4d73-af26-ba9ca4d2ffd4",
   "metadata": {},
   "source": [
    "Now that we Have the Url we can Extract Links of the article from This Urls here we can notice that the structure of each page is similar. The the page contains a lot of random fluff like links to add which can distract our program to handle those we can use the xpath of the table where the relevant links begin to extract links of articles on that date\n",
    "the article page also contains a lot of ads that could cause error in our extraction for this when doing manually we would click print icon on page that re directs us to a cleaner page that only has headline source date and article this can also be done programatically by altering \"articleshow\" to \"articleshowprint\" in articles url \n",
    "Eg URL- https://timesofindia.indiatimes.com//life-style/spotlight/when-flamenco-meets-bharatanatyam/articleshow/7354258.cms\n",
    "to https://timesofindia.indiatimes.com//life-style/spotlight/when-flamenco-meets-bharatanatyam/articleshowprint/7354258.cms\n",
    "we extract top 5 articles from that table to save time this can be change if needed"
   ]
  },
  {
   "cell_type": "code",
   "execution_count": 3,
   "id": "d4f69bdc-14d2-401f-94a0-3a4443c48165",
   "metadata": {},
   "outputs": [],
   "source": [
    "def scrape_and_modify_urls(initial_url,driver):\n",
    "    driver.get(initial_url) # Initial URl is the date URl generated above\n",
    "    table_section_xpath = '/html/body/div[1]/table[2]/tbody/tr[2]/td[1]/div[3]/table/tbody'\n",
    "    table_section = WebDriverWait(driver, 10).until(\n",
    "        EC.presence_of_element_located((By.XPATH, table_section_xpath))\n",
    "    ) # I have slow internet hence this autocheck is added\n",
    "    links = table_section.find_elements(By.TAG_NAME, 'a') # Tag of URl is usually a\n",
    "    pattern = re.compile(r'http[s]?://.*articleshow/\\d+.*') # that Table only contains URLS but a safety check to remove errors\n",
    "    modified_urls = [] # list to store those article print urls\n",
    "    for link in links:\n",
    "        href = link.get_attribute('href')\n",
    "        if href and pattern.match(href):\n",
    "            modified_href = href.replace(\"articleshow\", \"articleshowprint\") #changing for easier extraction in next function of code\n",
    "            modified_urls.append(modified_href)\n",
    "            if len(modified_urls) == 5: \n",
    "                break\n",
    "    return modified_urls "
   ]
  },
  {
   "cell_type": "markdown",
   "id": "3c33b856-024f-4542-93c2-b508ced1bbc1",
   "metadata": {},
   "source": [
    "Now that we have URLs of actual articles in correct format we can perform extraction on them. Since it has been observed the format of articles now is consistent we can use xpaths to navigate the each section and extract content from them we return our extracted content in form of a dictionary.\n",
    "in the function below we have called on two other functions defined later in code to perform the tasks of formatting the date in right format and generate summary of article extracted. we also return a flag that tells us the status of summary and is used to accept or repeat the process."
   ]
  },
  {
   "cell_type": "code",
   "execution_count": 4,
   "id": "47a478fb-0dab-45dc-a2c5-7df4be2fbd56",
   "metadata": {},
   "outputs": [],
   "source": [
    "def extract_content(url,flag,driver):\n",
    "    driver.get(url) # URL of Articleprint (single element from above list)\n",
    "    headline = WebDriverWait(driver, 10).until(\n",
    "        EC.presence_of_element_located((By.XPATH, '/html/body/div[1]/div[2]/section/h1'))\n",
    "    ).text # waiting for element in headline to load then extract them as text and store. wait to prevent errors\n",
    "    \n",
    "    date_element = WebDriverWait(driver, 10).until(\n",
    "        EC.presence_of_element_located((By.XPATH, '/html/body/div[1]/div[2]/section/div'))\n",
    "    ).text # waiting for element in date to load then extract them as text and store. wait to prevent errors\n",
    "    \n",
    "    # we have called a function defined below to format the presented date in correct order for processing\n",
    "    # flag is an error detection semaphore here will be changed to one if error encountered\n",
    "    formatted_date,flag = format_date(date_element,flag)\n",
    "    \n",
    "    article_content = []\n",
    "    sections = WebDriverWait(driver, 10).until(\n",
    "        EC.presence_of_all_elements_located((By.XPATH, '//div[contains(@class, \"section\")]'))\n",
    "    ) # waiting for element in article to load then extract them as text and store each section in list. wait to prevent errors\n",
    "\n",
    "    for section in sections: # since article is in different sections we have to combine them\n",
    "        normal_divs = section.find_elements(By.XPATH, './/div[contains(@class, \"Normal\")]')\n",
    "        for div in normal_divs:\n",
    "            article_content.append(clean_text(div.text)) \n",
    "    \n",
    "    article_text = ' '.join(article_content)\n",
    "\n",
    "    # calling a generate summary function defined below to generate summary of article and its topic also has a semaphore to test for errors in summary generation\n",
    "    summary, topic, flag = generate_summary_and_topic(article_text,flag) \n",
    "    \n",
    "    return {\n",
    "        'headline': headline,\n",
    "        'date': formatted_date,\n",
    "        'article': article_text,\n",
    "        'summary': summary,\n",
    "        'topic': topic\n",
    "    }, flag # returns dictionary containing data and flag containing information about correct structure of generated summary"
   ]
  },
  {
   "cell_type": "markdown",
   "id": "0f6ac821-849f-4623-a826-64f90f2604fd",
   "metadata": {},
   "source": [
    "Here we define the summary generation function that uses the Free API of Googles LLM gemini the article is provided as prompts to the model as a summary is asked. Later from this summary, a list of broad topics is asked to be generated. LLMs generally prefer it if a given problem is broken into many parts and are less likely to give errornious response. from the given generated list of broad topics the LLM is asked to which specific topic from given list (present in google form) does this prompt match the most. It is asked with a very specific prompt . If the response doesnt match (response is not in topic list) , we ask it again to rectify (to save us time.). in case the response is still erronious then flag is turned to one the main function detects this and re starts the entire iteration again to prevent submitting errorinous response to form. Your margin to safety may wary."
   ]
  },
  {
   "cell_type": "code",
   "execution_count": 5,
   "id": "59c35e24-9af5-40b2-a27c-5bf5654492fe",
   "metadata": {},
   "outputs": [],
   "source": [
    "def generate_summary_and_topic(article_text,flag):\n",
    "    model = genai.GenerativeModel(\"gemini-pro\") # selecting model from api\n",
    "\n",
    "    #Summary of article\n",
    "    prompt = \"generate summary of article in strictly50-200 words\" + article_text\n",
    "    response = model.generate_content(prompt,safety_settings=[{'category':'HARM_CATEGORY_HARASSMENT','threshold':'block_none'},{'category':'HARM_CATEGORY_SEXUALLY_EXPLICIT','threshold':'block_none'},{'category':'HARM_CATEGORY_DANGEROUS_CONTENT','threshold':'block_none'},{'category':'HARM_CATEGORY_HATE_SPEECH','threshold':'block_none'}])\n",
    "    summary_=response.text \n",
    "\n",
    "    # Broad topics in artcle\n",
    "    prompt=\"Identify the broad topics in this summary\"+summary_\n",
    "    response = model.generate_content(prompt,safety_settings=[{'category':'HARM_CATEGORY_HARASSMENT','threshold':'block_none'},{'category':'HARM_CATEGORY_SEXUALLY_EXPLICIT','threshold':'block_none'},{'category':'HARM_CATEGORY_DANGEROUS_CONTENT','threshold':'block_none'},{'category':'HARM_CATEGORY_HATE_SPEECH','threshold':'block_none'}])\n",
    "    topic=response.text\n",
    "\n",
    "    # Actual Topic from List using those Broad Topics\n",
    "    prompt=\"which single word from the list ['Politics', 'International News', 'National News', 'Local News', 'Business and Finance', 'Science and Technology', 'Health and Wellness', 'Entertainment', 'Sports', 'Lifestyle and Features', 'Opinion and Editorial', 'Environment', 'Education', 'Crime and Justice', 'Human Interest', 'Obituaries', 'Weather', 'Religion and Spirituality','Technology and Gadgets','Automotive'] does thw word : \"+topic+\" relate to the most if the word exists in list return it back\"\n",
    "    response=model.generate_content(prompt,safety_settings=[{'category':'HARM_CATEGORY_HARASSMENT','threshold':'block_none'},{'category':'HARM_CATEGORY_SEXUALLY_EXPLICIT','threshold':'block_none'},{'category':'HARM_CATEGORY_DANGEROUS_CONTENT','threshold':'block_none'},{'category':'HARM_CATEGORY_HATE_SPEECH','threshold':'block_none'}])\n",
    "    topic=response.text\n",
    "    \n",
    "    topics=['Politics', 'International News', 'National News', 'Local News', 'Business and Finance', 'Science and Technology', 'Health and Wellness', 'Entertainment', 'Sports', 'Lifestyle and Features', 'Opinion and Editorial', 'Environment', 'Education', 'Crime and Justice', 'Human Interest', 'Obituaries', 'Weather', 'Religion and Spirituality','Technology and Gadgets','Automotive']\n",
    "    if topic not in topics:\n",
    "        # Retry to save computation time in case it gives correct answer tgis time it will save us like 10-15 second of initial extraction\n",
    "        prompt=\"which word from the list ['Politics', 'International News', 'National News', 'Local News', 'Business and Finance', 'Science and Technology', 'Health and Wellness', 'Entertainment', 'Sports', 'Lifestyle and Features', 'Opinion and Editorial', 'Environment', 'Education', 'Crime and Justice', 'Human Interest', 'Obituaries', 'Weather', 'Religion and Spirituality','Technology and Gadgets','Automotive'] does thw word : \"+topic+\" relate to the most if the word exists in list return it back\"\n",
    "        response=model.generate_content(prompt,safety_settings=[{'category':'HARM_CATEGORY_HARASSMENT','threshold':'block_none'},{'category':'HARM_CATEGORY_SEXUALLY_EXPLICIT','threshold':'block_none'},{'category':'HARM_CATEGORY_DANGEROUS_CONTENT','threshold':'block_none'},{'category':'HARM_CATEGORY_HATE_SPEECH','threshold':'block_none'}])\n",
    "        topic=response.text\n",
    "        \n",
    "        if topic not in topics:\n",
    "            flag=1 # semaphore set to 1 to indicate main function the summary generated is erronious and iteration should be terminated for safety\n",
    "            \n",
    "    return clean_text(summary_), topic, flag"
   ]
  },
  {
   "cell_type": "markdown",
   "id": "c1ccd066-5918-4b3b-befa-3b8f367a31e8",
   "metadata": {},
   "source": [
    "Now that we have our data in form of a dictionary we can submit it to our google form we will again use selenium library with help of Xpath to identify inputs boxes and send keys to each input box and subit our response modifiy this code according to your needs i have provided screen shots of the form i use also a template to copy it to test for your self i have closed the form dont spam me."
   ]
  },
  {
   "cell_type": "code",
   "execution_count": 6,
   "id": "e6169725-748f-4842-9ca9-057e3d2bbb6f",
   "metadata": {},
   "outputs": [],
   "source": [
    "def fill_google_form(d,driver):\n",
    "\n",
    "    # Acessing the Google Form using URL.\n",
    "    driver.get(\"YOUR GOOGLE FORM\")\n",
    "    WebDriverWait(driver, 10).until(EC.presence_of_element_located((By.TAG_NAME, \"input\"))) # waiting for loading to avoid errors.\n",
    "\n",
    "    # Finding the column to Input my name\n",
    "    myname=driver.find_element(By.XPATH, '//*[@id=\"mG61Hd\"]/div[2]/div/div[2]/div[1]/div/div/div[2]/div/div[1]/div/div[1]/input')\n",
    "    myname.click()\n",
    "    myname.send_keys(\"YOUR NAME\")\n",
    "\n",
    "    # Finding the column to input newspaper name\n",
    "    newsname=driver.find_element(By.XPATH, '//*[@id=\"mG61Hd\"]/div[2]/div/div[2]/div[2]/div/div/div[2]/div/div[1]/div/div[1]/input')\n",
    "    newsname.click()\n",
    "    newsname.send_keys(\"The Times of India\")\n",
    "\n",
    "    # Finding the column to input date\n",
    "    date_input = driver.find_element(By.CSS_SELECTOR, 'input[type=\"date\"]')\n",
    "    date_input.send_keys(d['date'])\n",
    "\n",
    "    # Finding the column to Input the extracted heading\n",
    "    heading=driver.find_element(By.XPATH, '//*[@id=\"mG61Hd\"]/div[2]/div/div[2]/div[4]/div/div/div[2]/div/div[1]/div/div[1]/input')\n",
    "    heading.click()\n",
    "    heading.send_keys(d['headline'])\n",
    "\n",
    "    # Finding the column to input Articles content\n",
    "    content=driver.find_element(By.XPATH, '//*[@id=\"mG61Hd\"]/div[2]/div/div[2]/div[5]/div/div/div[2]/div/div[1]/div[2]/textarea')\n",
    "    content.click()\n",
    "    content.send_keys(d['article'])\n",
    "\n",
    "    # Finding the Column to Input generated summary\n",
    "    summary_=driver.find_element(By.XPATH, '//*[@id=\"mG61Hd\"]/div[2]/div/div[2]/div[6]/div/div/div[2]/div/div[1]/div[2]/textarea')\n",
    "    summary_.click()\n",
    "    summary_.send_keys(d['summary'])\n",
    "\n",
    "    #implementing Radiobuttons loops to find and selet the correct Implemented outside to save runtime.\n",
    "    # Call an external the function\n",
    "    radiobutton(d['topic'],driver)\n",
    "\n",
    "    "
   ]
  },
  {
   "cell_type": "code",
   "execution_count": 7,
   "id": "205d63f8-46cd-4553-868b-064f2cfa5094",
   "metadata": {},
   "outputs": [],
   "source": [
    "def radiobutton(topic,driver):\n",
    "    radiobuttons = {\n",
    "        'Politics': 'i30', 'International News': 'i33', 'National News': 'i36', 'Local News': 'i39', \n",
    "        'Business and Finance': 'i45', 'Science and Technology': 'i48', 'Health and Wellness': 'i51', \n",
    "        'Entertainment': 'i54', 'Sports': 'i57', 'Lifestyle and Features': 'i60', 'Opinion and Editorial': 'i63', \n",
    "        'Environment': 'i66', 'Education': 'i69', 'Crime and Justice': 'i72', 'Human Interest': 'i75', \n",
    "        'Obituaries': 'i78', 'Weather': 'i81', 'Religion and Spirituality': 'i84', \n",
    "        'Technology and Gadgets': 'i87', 'Automotive': 'i90'\n",
    "    } # dictionary containing all the ID tags of each radiobutton\n",
    "    for radio in radiobuttons: # for-else implementation to click a button. Note if break is encountered Else is not executed\n",
    "        if topic == radio:\n",
    "            button = driver.find_element(By.ID, radiobuttons[radio])\n",
    "            button.click()\n",
    "            break\n",
    "    else:\n",
    "        other = driver.find_element(By.ID, 'i93')\n",
    "        other.click()\n",
    "        ink = driver.find_element(By.XPATH, '//*[@id=\"mG61Hd\"]/div[2]/div/div[2]/div[7]/div/div/div[2]/div/div/span/div/div[22]/div/span/div/div/div[1]/input')\n",
    "        ink.send_keys(topic)"
   ]
  },
  {
   "cell_type": "markdown",
   "id": "3d8ae3c1-5e1c-4247-adcc-aa8a95fbf39b",
   "metadata": {},
   "source": [
    "Below are some Auxillary function implemented so as to call and use then as needed by main three code functions tasks above"
   ]
  },
  {
   "cell_type": "code",
   "execution_count": 8,
   "id": "8f738cc1-f9be-45ed-9a58-1e1dd103db30",
   "metadata": {},
   "outputs": [],
   "source": [
    "def clean_text(text): # text extracted from article contained a lot of random characters this function deals with those\n",
    "    text = text.replace('\\n', ' ')\n",
    "    text = re.sub(r'[^a-zA-Z0-9.,;:\\'\"!?() -]', '', text)\n",
    "    text = text.replace(\"\\'\",\"'\")\n",
    "    return text"
   ]
  },
  {
   "cell_type": "code",
   "execution_count": 9,
   "id": "376d418c-5934-4f94-a7ee-e39317d89628",
   "metadata": {},
   "outputs": [],
   "source": [
    "def format_date(date_string, flag ):\n",
    "    # Remove any text ending with ' | ' from the date_string\n",
    "    date_string = re.sub(r'^.*? \\| ', '', date_string)\n",
    "    \n",
    "    date_format_in = \"%b %d, %Y, %I.%M %p IST\"\n",
    "    date_format_out = \"%m/%d/%Y\"\n",
    "    \n",
    "    try:\n",
    "        date_obj = datetime.strptime(date_string, date_format_in)\n",
    "        formatted_date = date_obj.strftime(date_format_out)\n",
    "    except ValueError:\n",
    "        flag=1\n",
    "        return date_string , flag # once again used to detect\n",
    "    \n",
    "    return formatted_date, flag"
   ]
  },
  {
   "cell_type": "markdown",
   "id": "2b6a4cee-625d-4330-b2b2-e6627e947ad2",
   "metadata": {},
   "source": [
    "With this we have defined all the needed functions to run the program now we will write the main function to limit the scope of variables and not make them global to avoid errors."
   ]
  },
  {
   "cell_type": "code",
   "execution_count": 10,
   "id": "b672087e-9ff8-4732-baa7-5396d3807059",
   "metadata": {},
   "outputs": [],
   "source": [
    "def main():\n",
    "    # setup gemini and driver \n",
    "    GOOGLE_AI_KEY = 'YOUR API KEY'\n",
    "    genai.configure(api_key=GOOGLE_AI_KEY)\n",
    "    driver = webdriver.Chrome(service=Service(ChromeDriverManager().install()))\n",
    "    \n",
    "    # count successful submits\n",
    "    count=0\n",
    "    # Count error encountered in generated content or date_formatting\n",
    "    hallucinate=0\n",
    "    # count anyoerror encountered\n",
    "    p=0\n",
    "    # detect Errors and restart the loop\n",
    "    flag=0\n",
    "    # Store URL that have cause any form of error for future diagnostics\n",
    "    error_urls={}\n",
    "    # number of entries on server\n",
    "    max_count=1000\n",
    "    \n",
    "    while True: # Loop till a stopping condition is reached.\n",
    "        try:\n",
    "            initial_url = generate_random_url() # Generating Date archive URL\n",
    "            \n",
    "            urls_to_scrape = scrape_and_modify_urls(initial_url,driver) # Generating List of Articles from that Url\n",
    "            \n",
    "            url_select=random.choice(urls_to_scrape) # Selecting 1 Random article from list.\n",
    "            \n",
    "            content,flag = extract_content(url_select,flag,driver) # ectracting and adding generated content from article\n",
    "            \n",
    "            if flag==1: # Error detected\n",
    "                flag=0 # set Flag to zero for next Iteration\n",
    "                hallucinate+=1\n",
    "                error_urls[url_select]=\"Function Error at Count :\"+ str(count) # storing the erronious URL in a dictionary\n",
    "                driver.quit() # restart the driver for being error free just in case\n",
    "                driver = webdriver.Chrome(service=Service(ChromeDriverManager().install()))\n",
    "                continue\n",
    "                \n",
    "            fill_google_form(content,driver) #filling up the google form with details\n",
    "            \n",
    "            submit=driver.find_element(By.XPATH,'//*[@id=\"mG61Hd\"]/div[2]/div/div[3]/div[1]/div[1]/div')\n",
    "            submit.click() # submitting the google form\n",
    "            \n",
    "            count+=1 # adding in count of successful submissions\n",
    "\n",
    "            if count % 50 == 0: # Notify user at every 50 sucessful submissions\n",
    "                print(\"Number of submissions done till now:\",count)\n",
    "                winsound.Beep(300,300)\n",
    "            if count % 100 ==0: # Dump error dictionary into a file every 100 submissions for speed\n",
    "                with open(\"Dictionary_dump.txt\",\"a\") as file:\n",
    "                    file.write(\"Errors till Count:\",count,\"\\n\")\n",
    "                    file.write(str(error_urls)+\"\\n\\n\")\n",
    "                    file.close()\n",
    "                error_urls.clear()\n",
    "            if count==max_count: # exit loop when number of submissions reached\n",
    "                break\n",
    "        except Exception as e:\n",
    "            error_urls[url_select]=\"Error Code:\"+str(e)\n",
    "            p+=1\n",
    "            driver.quit() # restart the driver for being error free just in case\n",
    "            driver = webdriver.Chrome(service=Service(ChromeDriverManager().install()))\n",
    "            continue\n",
    "        driver.quit()\n",
    "    winsound.Beep(2400,500)\n",
    "    print(\"You are Finished\")\n",
    "    print(\"Number of submit:\",count)\n",
    "    print(\"Number of General Errors:\",p)\n",
    "    print(\"Number of Errors due to Undesired output:\",hallucinate)\n",
    "    os.system('shutdown /s /t 1') # shutdown after running overnight\n",
    "            \n",
    "                \n",
    "        "
   ]
  },
  {
   "cell_type": "markdown",
   "id": "ff7ddaa6-27b1-4252-ae0e-6a4e4e5afac0",
   "metadata": {},
   "source": [
    "Our code is done Since this Code was Designed to be ran Overnight, to do so, a lot of focus has been put in error management and safehandling of genrated content. now we can reap the fruits of our labour esure you replace place holders like \"Doc URL\",\"GOOgle_api key\", with correct values according to your personal needs."
   ]
  },
  {
   "cell_type": "code",
   "execution_count": 11,
   "id": "22307ad9-2d63-484f-a285-ab89714e544c",
   "metadata": {},
   "outputs": [
    {
     "ename": "KeyboardInterrupt",
     "evalue": "",
     "output_type": "error",
     "traceback": [
      "\u001b[1;31m---------------------------------------------------------------------------\u001b[0m",
      "\u001b[1;31mKeyboardInterrupt\u001b[0m                         Traceback (most recent call last)",
      "\u001b[1;32m<ipython-input-11-6eef670d5414>\u001b[0m in \u001b[0;36m<module>\u001b[1;34m\u001b[0m\n\u001b[0;32m      1\u001b[0m \u001b[1;32mif\u001b[0m \u001b[0m__name__\u001b[0m \u001b[1;33m==\u001b[0m \u001b[1;34m\"__main__\"\u001b[0m\u001b[1;33m:\u001b[0m \u001b[1;31m#calling the main function\u001b[0m\u001b[1;33m\u001b[0m\u001b[1;33m\u001b[0m\u001b[0m\n\u001b[1;32m----> 2\u001b[1;33m     \u001b[0mmain\u001b[0m\u001b[1;33m(\u001b[0m\u001b[1;33m)\u001b[0m\u001b[1;33m\u001b[0m\u001b[1;33m\u001b[0m\u001b[0m\n\u001b[0m",
      "\u001b[1;32m<ipython-input-10-52f19908d05d>\u001b[0m in \u001b[0;36mmain\u001b[1;34m()\u001b[0m\n\u001b[0;32m     22\u001b[0m             \u001b[0minitial_url\u001b[0m \u001b[1;33m=\u001b[0m \u001b[0mgenerate_random_url\u001b[0m\u001b[1;33m(\u001b[0m\u001b[1;33m)\u001b[0m \u001b[1;31m# Generating Date archive URL\u001b[0m\u001b[1;33m\u001b[0m\u001b[1;33m\u001b[0m\u001b[0m\n\u001b[0;32m     23\u001b[0m \u001b[1;33m\u001b[0m\u001b[0m\n\u001b[1;32m---> 24\u001b[1;33m             \u001b[0murls_to_scrape\u001b[0m \u001b[1;33m=\u001b[0m \u001b[0mscrape_and_modify_urls\u001b[0m\u001b[1;33m(\u001b[0m\u001b[0minitial_url\u001b[0m\u001b[1;33m,\u001b[0m\u001b[0mdriver\u001b[0m\u001b[1;33m)\u001b[0m \u001b[1;31m# Generating List of Articles from that Url\u001b[0m\u001b[1;33m\u001b[0m\u001b[1;33m\u001b[0m\u001b[0m\n\u001b[0m\u001b[0;32m     25\u001b[0m \u001b[1;33m\u001b[0m\u001b[0m\n\u001b[0;32m     26\u001b[0m             \u001b[0murl_select\u001b[0m\u001b[1;33m=\u001b[0m\u001b[0mrandom\u001b[0m\u001b[1;33m.\u001b[0m\u001b[0mchoice\u001b[0m\u001b[1;33m(\u001b[0m\u001b[0murls_to_scrape\u001b[0m\u001b[1;33m)\u001b[0m \u001b[1;31m# Selecting 1 Random article from list.\u001b[0m\u001b[1;33m\u001b[0m\u001b[1;33m\u001b[0m\u001b[0m\n",
      "\u001b[1;32m<ipython-input-3-00df347ae954>\u001b[0m in \u001b[0;36mscrape_and_modify_urls\u001b[1;34m(initial_url, driver)\u001b[0m\n\u001b[0;32m      1\u001b[0m \u001b[1;32mdef\u001b[0m \u001b[0mscrape_and_modify_urls\u001b[0m\u001b[1;33m(\u001b[0m\u001b[0minitial_url\u001b[0m\u001b[1;33m,\u001b[0m\u001b[0mdriver\u001b[0m\u001b[1;33m)\u001b[0m\u001b[1;33m:\u001b[0m\u001b[1;33m\u001b[0m\u001b[1;33m\u001b[0m\u001b[0m\n\u001b[1;32m----> 2\u001b[1;33m     \u001b[0mdriver\u001b[0m\u001b[1;33m.\u001b[0m\u001b[0mget\u001b[0m\u001b[1;33m(\u001b[0m\u001b[0minitial_url\u001b[0m\u001b[1;33m)\u001b[0m \u001b[1;31m# Initial URl is the date URl generated above\u001b[0m\u001b[1;33m\u001b[0m\u001b[1;33m\u001b[0m\u001b[0m\n\u001b[0m\u001b[0;32m      3\u001b[0m     \u001b[0mtable_section_xpath\u001b[0m \u001b[1;33m=\u001b[0m \u001b[1;34m'/html/body/div[1]/table[2]/tbody/tr[2]/td[1]/div[3]/table/tbody'\u001b[0m\u001b[1;33m\u001b[0m\u001b[1;33m\u001b[0m\u001b[0m\n\u001b[0;32m      4\u001b[0m     table_section = WebDriverWait(driver, 10).until(\n\u001b[0;32m      5\u001b[0m         \u001b[0mEC\u001b[0m\u001b[1;33m.\u001b[0m\u001b[0mpresence_of_element_located\u001b[0m\u001b[1;33m(\u001b[0m\u001b[1;33m(\u001b[0m\u001b[0mBy\u001b[0m\u001b[1;33m.\u001b[0m\u001b[0mXPATH\u001b[0m\u001b[1;33m,\u001b[0m \u001b[0mtable_section_xpath\u001b[0m\u001b[1;33m)\u001b[0m\u001b[1;33m)\u001b[0m\u001b[1;33m\u001b[0m\u001b[1;33m\u001b[0m\u001b[0m\n",
      "\u001b[1;32md:\\python\\lib\\site-packages\\selenium\\webdriver\\remote\\webdriver.py\u001b[0m in \u001b[0;36mget\u001b[1;34m(self, url)\u001b[0m\n\u001b[0;32m    354\u001b[0m     \u001b[1;32mdef\u001b[0m \u001b[0mget\u001b[0m\u001b[1;33m(\u001b[0m\u001b[0mself\u001b[0m\u001b[1;33m,\u001b[0m \u001b[0murl\u001b[0m\u001b[1;33m:\u001b[0m \u001b[0mstr\u001b[0m\u001b[1;33m)\u001b[0m \u001b[1;33m->\u001b[0m \u001b[1;32mNone\u001b[0m\u001b[1;33m:\u001b[0m\u001b[1;33m\u001b[0m\u001b[1;33m\u001b[0m\u001b[0m\n\u001b[0;32m    355\u001b[0m         \u001b[1;34m\"\"\"Loads a web page in the current browser session.\"\"\"\u001b[0m\u001b[1;33m\u001b[0m\u001b[1;33m\u001b[0m\u001b[0m\n\u001b[1;32m--> 356\u001b[1;33m         \u001b[0mself\u001b[0m\u001b[1;33m.\u001b[0m\u001b[0mexecute\u001b[0m\u001b[1;33m(\u001b[0m\u001b[0mCommand\u001b[0m\u001b[1;33m.\u001b[0m\u001b[0mGET\u001b[0m\u001b[1;33m,\u001b[0m \u001b[1;33m{\u001b[0m\u001b[1;34m\"url\"\u001b[0m\u001b[1;33m:\u001b[0m \u001b[0murl\u001b[0m\u001b[1;33m}\u001b[0m\u001b[1;33m)\u001b[0m\u001b[1;33m\u001b[0m\u001b[1;33m\u001b[0m\u001b[0m\n\u001b[0m\u001b[0;32m    357\u001b[0m \u001b[1;33m\u001b[0m\u001b[0m\n\u001b[0;32m    358\u001b[0m     \u001b[1;33m@\u001b[0m\u001b[0mproperty\u001b[0m\u001b[1;33m\u001b[0m\u001b[1;33m\u001b[0m\u001b[0m\n",
      "\u001b[1;32md:\\python\\lib\\site-packages\\selenium\\webdriver\\remote\\webdriver.py\u001b[0m in \u001b[0;36mexecute\u001b[1;34m(self, driver_command, params)\u001b[0m\n\u001b[0;32m    343\u001b[0m                 \u001b[0mparams\u001b[0m\u001b[1;33m[\u001b[0m\u001b[1;34m\"sessionId\"\u001b[0m\u001b[1;33m]\u001b[0m \u001b[1;33m=\u001b[0m \u001b[0mself\u001b[0m\u001b[1;33m.\u001b[0m\u001b[0msession_id\u001b[0m\u001b[1;33m\u001b[0m\u001b[1;33m\u001b[0m\u001b[0m\n\u001b[0;32m    344\u001b[0m \u001b[1;33m\u001b[0m\u001b[0m\n\u001b[1;32m--> 345\u001b[1;33m         \u001b[0mresponse\u001b[0m \u001b[1;33m=\u001b[0m \u001b[0mself\u001b[0m\u001b[1;33m.\u001b[0m\u001b[0mcommand_executor\u001b[0m\u001b[1;33m.\u001b[0m\u001b[0mexecute\u001b[0m\u001b[1;33m(\u001b[0m\u001b[0mdriver_command\u001b[0m\u001b[1;33m,\u001b[0m \u001b[0mparams\u001b[0m\u001b[1;33m)\u001b[0m\u001b[1;33m\u001b[0m\u001b[1;33m\u001b[0m\u001b[0m\n\u001b[0m\u001b[0;32m    346\u001b[0m         \u001b[1;32mif\u001b[0m \u001b[0mresponse\u001b[0m\u001b[1;33m:\u001b[0m\u001b[1;33m\u001b[0m\u001b[1;33m\u001b[0m\u001b[0m\n\u001b[0;32m    347\u001b[0m             \u001b[0mself\u001b[0m\u001b[1;33m.\u001b[0m\u001b[0merror_handler\u001b[0m\u001b[1;33m.\u001b[0m\u001b[0mcheck_response\u001b[0m\u001b[1;33m(\u001b[0m\u001b[0mresponse\u001b[0m\u001b[1;33m)\u001b[0m\u001b[1;33m\u001b[0m\u001b[1;33m\u001b[0m\u001b[0m\n",
      "\u001b[1;32md:\\python\\lib\\site-packages\\selenium\\webdriver\\remote\\remote_connection.py\u001b[0m in \u001b[0;36mexecute\u001b[1;34m(self, command, params)\u001b[0m\n\u001b[0;32m    300\u001b[0m         \u001b[0mtrimmed\u001b[0m \u001b[1;33m=\u001b[0m \u001b[0mself\u001b[0m\u001b[1;33m.\u001b[0m\u001b[0m_trim_large_entries\u001b[0m\u001b[1;33m(\u001b[0m\u001b[0mparams\u001b[0m\u001b[1;33m)\u001b[0m\u001b[1;33m\u001b[0m\u001b[1;33m\u001b[0m\u001b[0m\n\u001b[0;32m    301\u001b[0m         \u001b[0mLOGGER\u001b[0m\u001b[1;33m.\u001b[0m\u001b[0mdebug\u001b[0m\u001b[1;33m(\u001b[0m\u001b[1;34m\"%s %s %s\"\u001b[0m\u001b[1;33m,\u001b[0m \u001b[0mcommand_info\u001b[0m\u001b[1;33m[\u001b[0m\u001b[1;36m0\u001b[0m\u001b[1;33m]\u001b[0m\u001b[1;33m,\u001b[0m \u001b[0murl\u001b[0m\u001b[1;33m,\u001b[0m \u001b[0mstr\u001b[0m\u001b[1;33m(\u001b[0m\u001b[0mtrimmed\u001b[0m\u001b[1;33m)\u001b[0m\u001b[1;33m)\u001b[0m\u001b[1;33m\u001b[0m\u001b[1;33m\u001b[0m\u001b[0m\n\u001b[1;32m--> 302\u001b[1;33m         \u001b[1;32mreturn\u001b[0m \u001b[0mself\u001b[0m\u001b[1;33m.\u001b[0m\u001b[0m_request\u001b[0m\u001b[1;33m(\u001b[0m\u001b[0mcommand_info\u001b[0m\u001b[1;33m[\u001b[0m\u001b[1;36m0\u001b[0m\u001b[1;33m]\u001b[0m\u001b[1;33m,\u001b[0m \u001b[0murl\u001b[0m\u001b[1;33m,\u001b[0m \u001b[0mbody\u001b[0m\u001b[1;33m=\u001b[0m\u001b[0mdata\u001b[0m\u001b[1;33m)\u001b[0m\u001b[1;33m\u001b[0m\u001b[1;33m\u001b[0m\u001b[0m\n\u001b[0m\u001b[0;32m    303\u001b[0m \u001b[1;33m\u001b[0m\u001b[0m\n\u001b[0;32m    304\u001b[0m     \u001b[1;32mdef\u001b[0m \u001b[0m_request\u001b[0m\u001b[1;33m(\u001b[0m\u001b[0mself\u001b[0m\u001b[1;33m,\u001b[0m \u001b[0mmethod\u001b[0m\u001b[1;33m,\u001b[0m \u001b[0murl\u001b[0m\u001b[1;33m,\u001b[0m \u001b[0mbody\u001b[0m\u001b[1;33m=\u001b[0m\u001b[1;32mNone\u001b[0m\u001b[1;33m)\u001b[0m\u001b[1;33m:\u001b[0m\u001b[1;33m\u001b[0m\u001b[1;33m\u001b[0m\u001b[0m\n",
      "\u001b[1;32md:\\python\\lib\\site-packages\\selenium\\webdriver\\remote\\remote_connection.py\u001b[0m in \u001b[0;36m_request\u001b[1;34m(self, method, url, body)\u001b[0m\n\u001b[0;32m    320\u001b[0m \u001b[1;33m\u001b[0m\u001b[0m\n\u001b[0;32m    321\u001b[0m         \u001b[1;32mif\u001b[0m \u001b[0mself\u001b[0m\u001b[1;33m.\u001b[0m\u001b[0mkeep_alive\u001b[0m\u001b[1;33m:\u001b[0m\u001b[1;33m\u001b[0m\u001b[1;33m\u001b[0m\u001b[0m\n\u001b[1;32m--> 322\u001b[1;33m             \u001b[0mresponse\u001b[0m \u001b[1;33m=\u001b[0m \u001b[0mself\u001b[0m\u001b[1;33m.\u001b[0m\u001b[0m_conn\u001b[0m\u001b[1;33m.\u001b[0m\u001b[0mrequest\u001b[0m\u001b[1;33m(\u001b[0m\u001b[0mmethod\u001b[0m\u001b[1;33m,\u001b[0m \u001b[0murl\u001b[0m\u001b[1;33m,\u001b[0m \u001b[0mbody\u001b[0m\u001b[1;33m=\u001b[0m\u001b[0mbody\u001b[0m\u001b[1;33m,\u001b[0m \u001b[0mheaders\u001b[0m\u001b[1;33m=\u001b[0m\u001b[0mheaders\u001b[0m\u001b[1;33m)\u001b[0m\u001b[1;33m\u001b[0m\u001b[1;33m\u001b[0m\u001b[0m\n\u001b[0m\u001b[0;32m    323\u001b[0m             \u001b[0mstatuscode\u001b[0m \u001b[1;33m=\u001b[0m \u001b[0mresponse\u001b[0m\u001b[1;33m.\u001b[0m\u001b[0mstatus\u001b[0m\u001b[1;33m\u001b[0m\u001b[1;33m\u001b[0m\u001b[0m\n\u001b[0;32m    324\u001b[0m         \u001b[1;32melse\u001b[0m\u001b[1;33m:\u001b[0m\u001b[1;33m\u001b[0m\u001b[1;33m\u001b[0m\u001b[0m\n",
      "\u001b[1;32md:\\python\\lib\\site-packages\\urllib3\\request.py\u001b[0m in \u001b[0;36mrequest\u001b[1;34m(self, method, url, fields, headers, **urlopen_kw)\u001b[0m\n\u001b[0;32m     76\u001b[0m             )\n\u001b[0;32m     77\u001b[0m         \u001b[1;32melse\u001b[0m\u001b[1;33m:\u001b[0m\u001b[1;33m\u001b[0m\u001b[1;33m\u001b[0m\u001b[0m\n\u001b[1;32m---> 78\u001b[1;33m             return self.request_encode_body(\n\u001b[0m\u001b[0;32m     79\u001b[0m                 \u001b[0mmethod\u001b[0m\u001b[1;33m,\u001b[0m \u001b[0murl\u001b[0m\u001b[1;33m,\u001b[0m \u001b[0mfields\u001b[0m\u001b[1;33m=\u001b[0m\u001b[0mfields\u001b[0m\u001b[1;33m,\u001b[0m \u001b[0mheaders\u001b[0m\u001b[1;33m=\u001b[0m\u001b[0mheaders\u001b[0m\u001b[1;33m,\u001b[0m \u001b[1;33m**\u001b[0m\u001b[0murlopen_kw\u001b[0m\u001b[1;33m\u001b[0m\u001b[1;33m\u001b[0m\u001b[0m\n\u001b[0;32m     80\u001b[0m             )\n",
      "\u001b[1;32md:\\python\\lib\\site-packages\\urllib3\\request.py\u001b[0m in \u001b[0;36mrequest_encode_body\u001b[1;34m(self, method, url, fields, headers, encode_multipart, multipart_boundary, **urlopen_kw)\u001b[0m\n\u001b[0;32m    168\u001b[0m         \u001b[0mextra_kw\u001b[0m\u001b[1;33m.\u001b[0m\u001b[0mupdate\u001b[0m\u001b[1;33m(\u001b[0m\u001b[0murlopen_kw\u001b[0m\u001b[1;33m)\u001b[0m\u001b[1;33m\u001b[0m\u001b[1;33m\u001b[0m\u001b[0m\n\u001b[0;32m    169\u001b[0m \u001b[1;33m\u001b[0m\u001b[0m\n\u001b[1;32m--> 170\u001b[1;33m         \u001b[1;32mreturn\u001b[0m \u001b[0mself\u001b[0m\u001b[1;33m.\u001b[0m\u001b[0murlopen\u001b[0m\u001b[1;33m(\u001b[0m\u001b[0mmethod\u001b[0m\u001b[1;33m,\u001b[0m \u001b[0murl\u001b[0m\u001b[1;33m,\u001b[0m \u001b[1;33m**\u001b[0m\u001b[0mextra_kw\u001b[0m\u001b[1;33m)\u001b[0m\u001b[1;33m\u001b[0m\u001b[1;33m\u001b[0m\u001b[0m\n\u001b[0m",
      "\u001b[1;32md:\\python\\lib\\site-packages\\urllib3\\poolmanager.py\u001b[0m in \u001b[0;36murlopen\u001b[1;34m(self, method, url, redirect, **kw)\u001b[0m\n\u001b[0;32m    373\u001b[0m             \u001b[0mresponse\u001b[0m \u001b[1;33m=\u001b[0m \u001b[0mconn\u001b[0m\u001b[1;33m.\u001b[0m\u001b[0murlopen\u001b[0m\u001b[1;33m(\u001b[0m\u001b[0mmethod\u001b[0m\u001b[1;33m,\u001b[0m \u001b[0murl\u001b[0m\u001b[1;33m,\u001b[0m \u001b[1;33m**\u001b[0m\u001b[0mkw\u001b[0m\u001b[1;33m)\u001b[0m\u001b[1;33m\u001b[0m\u001b[1;33m\u001b[0m\u001b[0m\n\u001b[0;32m    374\u001b[0m         \u001b[1;32melse\u001b[0m\u001b[1;33m:\u001b[0m\u001b[1;33m\u001b[0m\u001b[1;33m\u001b[0m\u001b[0m\n\u001b[1;32m--> 375\u001b[1;33m             \u001b[0mresponse\u001b[0m \u001b[1;33m=\u001b[0m \u001b[0mconn\u001b[0m\u001b[1;33m.\u001b[0m\u001b[0murlopen\u001b[0m\u001b[1;33m(\u001b[0m\u001b[0mmethod\u001b[0m\u001b[1;33m,\u001b[0m \u001b[0mu\u001b[0m\u001b[1;33m.\u001b[0m\u001b[0mrequest_uri\u001b[0m\u001b[1;33m,\u001b[0m \u001b[1;33m**\u001b[0m\u001b[0mkw\u001b[0m\u001b[1;33m)\u001b[0m\u001b[1;33m\u001b[0m\u001b[1;33m\u001b[0m\u001b[0m\n\u001b[0m\u001b[0;32m    376\u001b[0m \u001b[1;33m\u001b[0m\u001b[0m\n\u001b[0;32m    377\u001b[0m         \u001b[0mredirect_location\u001b[0m \u001b[1;33m=\u001b[0m \u001b[0mredirect\u001b[0m \u001b[1;32mand\u001b[0m \u001b[0mresponse\u001b[0m\u001b[1;33m.\u001b[0m\u001b[0mget_redirect_location\u001b[0m\u001b[1;33m(\u001b[0m\u001b[1;33m)\u001b[0m\u001b[1;33m\u001b[0m\u001b[1;33m\u001b[0m\u001b[0m\n",
      "\u001b[1;32md:\\python\\lib\\site-packages\\urllib3\\connectionpool.py\u001b[0m in \u001b[0;36murlopen\u001b[1;34m(self, method, url, body, headers, retries, redirect, assert_same_host, timeout, pool_timeout, release_conn, chunked, body_pos, **response_kw)\u001b[0m\n\u001b[0;32m    697\u001b[0m \u001b[1;33m\u001b[0m\u001b[0m\n\u001b[0;32m    698\u001b[0m             \u001b[1;31m# Make the request on the httplib connection object.\u001b[0m\u001b[1;33m\u001b[0m\u001b[1;33m\u001b[0m\u001b[1;33m\u001b[0m\u001b[0m\n\u001b[1;32m--> 699\u001b[1;33m             httplib_response = self._make_request(\n\u001b[0m\u001b[0;32m    700\u001b[0m                 \u001b[0mconn\u001b[0m\u001b[1;33m,\u001b[0m\u001b[1;33m\u001b[0m\u001b[1;33m\u001b[0m\u001b[0m\n\u001b[0;32m    701\u001b[0m                 \u001b[0mmethod\u001b[0m\u001b[1;33m,\u001b[0m\u001b[1;33m\u001b[0m\u001b[1;33m\u001b[0m\u001b[0m\n",
      "\u001b[1;32md:\\python\\lib\\site-packages\\urllib3\\connectionpool.py\u001b[0m in \u001b[0;36m_make_request\u001b[1;34m(self, conn, method, url, timeout, chunked, **httplib_request_kw)\u001b[0m\n\u001b[0;32m    443\u001b[0m                     \u001b[1;31m# Python 3 (including for exceptions like SystemExit).\u001b[0m\u001b[1;33m\u001b[0m\u001b[1;33m\u001b[0m\u001b[1;33m\u001b[0m\u001b[0m\n\u001b[0;32m    444\u001b[0m                     \u001b[1;31m# Otherwise it looks like a bug in the code.\u001b[0m\u001b[1;33m\u001b[0m\u001b[1;33m\u001b[0m\u001b[1;33m\u001b[0m\u001b[0m\n\u001b[1;32m--> 445\u001b[1;33m                     \u001b[0msix\u001b[0m\u001b[1;33m.\u001b[0m\u001b[0mraise_from\u001b[0m\u001b[1;33m(\u001b[0m\u001b[0me\u001b[0m\u001b[1;33m,\u001b[0m \u001b[1;32mNone\u001b[0m\u001b[1;33m)\u001b[0m\u001b[1;33m\u001b[0m\u001b[1;33m\u001b[0m\u001b[0m\n\u001b[0m\u001b[0;32m    446\u001b[0m         \u001b[1;32mexcept\u001b[0m \u001b[1;33m(\u001b[0m\u001b[0mSocketTimeout\u001b[0m\u001b[1;33m,\u001b[0m \u001b[0mBaseSSLError\u001b[0m\u001b[1;33m,\u001b[0m \u001b[0mSocketError\u001b[0m\u001b[1;33m)\u001b[0m \u001b[1;32mas\u001b[0m \u001b[0me\u001b[0m\u001b[1;33m:\u001b[0m\u001b[1;33m\u001b[0m\u001b[1;33m\u001b[0m\u001b[0m\n\u001b[0;32m    447\u001b[0m             \u001b[0mself\u001b[0m\u001b[1;33m.\u001b[0m\u001b[0m_raise_timeout\u001b[0m\u001b[1;33m(\u001b[0m\u001b[0merr\u001b[0m\u001b[1;33m=\u001b[0m\u001b[0me\u001b[0m\u001b[1;33m,\u001b[0m \u001b[0murl\u001b[0m\u001b[1;33m=\u001b[0m\u001b[0murl\u001b[0m\u001b[1;33m,\u001b[0m \u001b[0mtimeout_value\u001b[0m\u001b[1;33m=\u001b[0m\u001b[0mread_timeout\u001b[0m\u001b[1;33m)\u001b[0m\u001b[1;33m\u001b[0m\u001b[1;33m\u001b[0m\u001b[0m\n",
      "\u001b[1;32md:\\python\\lib\\site-packages\\urllib3\\packages\\six.py\u001b[0m in \u001b[0;36mraise_from\u001b[1;34m(value, from_value)\u001b[0m\n",
      "\u001b[1;32md:\\python\\lib\\site-packages\\urllib3\\connectionpool.py\u001b[0m in \u001b[0;36m_make_request\u001b[1;34m(self, conn, method, url, timeout, chunked, **httplib_request_kw)\u001b[0m\n\u001b[0;32m    438\u001b[0m                 \u001b[1;31m# Python 3\u001b[0m\u001b[1;33m\u001b[0m\u001b[1;33m\u001b[0m\u001b[1;33m\u001b[0m\u001b[0m\n\u001b[0;32m    439\u001b[0m                 \u001b[1;32mtry\u001b[0m\u001b[1;33m:\u001b[0m\u001b[1;33m\u001b[0m\u001b[1;33m\u001b[0m\u001b[0m\n\u001b[1;32m--> 440\u001b[1;33m                     \u001b[0mhttplib_response\u001b[0m \u001b[1;33m=\u001b[0m \u001b[0mconn\u001b[0m\u001b[1;33m.\u001b[0m\u001b[0mgetresponse\u001b[0m\u001b[1;33m(\u001b[0m\u001b[1;33m)\u001b[0m\u001b[1;33m\u001b[0m\u001b[1;33m\u001b[0m\u001b[0m\n\u001b[0m\u001b[0;32m    441\u001b[0m                 \u001b[1;32mexcept\u001b[0m \u001b[0mBaseException\u001b[0m \u001b[1;32mas\u001b[0m \u001b[0me\u001b[0m\u001b[1;33m:\u001b[0m\u001b[1;33m\u001b[0m\u001b[1;33m\u001b[0m\u001b[0m\n\u001b[0;32m    442\u001b[0m                     \u001b[1;31m# Remove the TypeError from the exception chain in\u001b[0m\u001b[1;33m\u001b[0m\u001b[1;33m\u001b[0m\u001b[1;33m\u001b[0m\u001b[0m\n",
      "\u001b[1;32md:\\python\\lib\\http\\client.py\u001b[0m in \u001b[0;36mgetresponse\u001b[1;34m(self)\u001b[0m\n\u001b[0;32m   1345\u001b[0m         \u001b[1;32mtry\u001b[0m\u001b[1;33m:\u001b[0m\u001b[1;33m\u001b[0m\u001b[1;33m\u001b[0m\u001b[0m\n\u001b[0;32m   1346\u001b[0m             \u001b[1;32mtry\u001b[0m\u001b[1;33m:\u001b[0m\u001b[1;33m\u001b[0m\u001b[1;33m\u001b[0m\u001b[0m\n\u001b[1;32m-> 1347\u001b[1;33m                 \u001b[0mresponse\u001b[0m\u001b[1;33m.\u001b[0m\u001b[0mbegin\u001b[0m\u001b[1;33m(\u001b[0m\u001b[1;33m)\u001b[0m\u001b[1;33m\u001b[0m\u001b[1;33m\u001b[0m\u001b[0m\n\u001b[0m\u001b[0;32m   1348\u001b[0m             \u001b[1;32mexcept\u001b[0m \u001b[0mConnectionError\u001b[0m\u001b[1;33m:\u001b[0m\u001b[1;33m\u001b[0m\u001b[1;33m\u001b[0m\u001b[0m\n\u001b[0;32m   1349\u001b[0m                 \u001b[0mself\u001b[0m\u001b[1;33m.\u001b[0m\u001b[0mclose\u001b[0m\u001b[1;33m(\u001b[0m\u001b[1;33m)\u001b[0m\u001b[1;33m\u001b[0m\u001b[1;33m\u001b[0m\u001b[0m\n",
      "\u001b[1;32md:\\python\\lib\\http\\client.py\u001b[0m in \u001b[0;36mbegin\u001b[1;34m(self)\u001b[0m\n\u001b[0;32m    305\u001b[0m         \u001b[1;31m# read until we get a non-100 response\u001b[0m\u001b[1;33m\u001b[0m\u001b[1;33m\u001b[0m\u001b[1;33m\u001b[0m\u001b[0m\n\u001b[0;32m    306\u001b[0m         \u001b[1;32mwhile\u001b[0m \u001b[1;32mTrue\u001b[0m\u001b[1;33m:\u001b[0m\u001b[1;33m\u001b[0m\u001b[1;33m\u001b[0m\u001b[0m\n\u001b[1;32m--> 307\u001b[1;33m             \u001b[0mversion\u001b[0m\u001b[1;33m,\u001b[0m \u001b[0mstatus\u001b[0m\u001b[1;33m,\u001b[0m \u001b[0mreason\u001b[0m \u001b[1;33m=\u001b[0m \u001b[0mself\u001b[0m\u001b[1;33m.\u001b[0m\u001b[0m_read_status\u001b[0m\u001b[1;33m(\u001b[0m\u001b[1;33m)\u001b[0m\u001b[1;33m\u001b[0m\u001b[1;33m\u001b[0m\u001b[0m\n\u001b[0m\u001b[0;32m    308\u001b[0m             \u001b[1;32mif\u001b[0m \u001b[0mstatus\u001b[0m \u001b[1;33m!=\u001b[0m \u001b[0mCONTINUE\u001b[0m\u001b[1;33m:\u001b[0m\u001b[1;33m\u001b[0m\u001b[1;33m\u001b[0m\u001b[0m\n\u001b[0;32m    309\u001b[0m                 \u001b[1;32mbreak\u001b[0m\u001b[1;33m\u001b[0m\u001b[1;33m\u001b[0m\u001b[0m\n",
      "\u001b[1;32md:\\python\\lib\\http\\client.py\u001b[0m in \u001b[0;36m_read_status\u001b[1;34m(self)\u001b[0m\n\u001b[0;32m    266\u001b[0m \u001b[1;33m\u001b[0m\u001b[0m\n\u001b[0;32m    267\u001b[0m     \u001b[1;32mdef\u001b[0m \u001b[0m_read_status\u001b[0m\u001b[1;33m(\u001b[0m\u001b[0mself\u001b[0m\u001b[1;33m)\u001b[0m\u001b[1;33m:\u001b[0m\u001b[1;33m\u001b[0m\u001b[1;33m\u001b[0m\u001b[0m\n\u001b[1;32m--> 268\u001b[1;33m         \u001b[0mline\u001b[0m \u001b[1;33m=\u001b[0m \u001b[0mstr\u001b[0m\u001b[1;33m(\u001b[0m\u001b[0mself\u001b[0m\u001b[1;33m.\u001b[0m\u001b[0mfp\u001b[0m\u001b[1;33m.\u001b[0m\u001b[0mreadline\u001b[0m\u001b[1;33m(\u001b[0m\u001b[0m_MAXLINE\u001b[0m \u001b[1;33m+\u001b[0m \u001b[1;36m1\u001b[0m\u001b[1;33m)\u001b[0m\u001b[1;33m,\u001b[0m \u001b[1;34m\"iso-8859-1\"\u001b[0m\u001b[1;33m)\u001b[0m\u001b[1;33m\u001b[0m\u001b[1;33m\u001b[0m\u001b[0m\n\u001b[0m\u001b[0;32m    269\u001b[0m         \u001b[1;32mif\u001b[0m \u001b[0mlen\u001b[0m\u001b[1;33m(\u001b[0m\u001b[0mline\u001b[0m\u001b[1;33m)\u001b[0m \u001b[1;33m>\u001b[0m \u001b[0m_MAXLINE\u001b[0m\u001b[1;33m:\u001b[0m\u001b[1;33m\u001b[0m\u001b[1;33m\u001b[0m\u001b[0m\n\u001b[0;32m    270\u001b[0m             \u001b[1;32mraise\u001b[0m \u001b[0mLineTooLong\u001b[0m\u001b[1;33m(\u001b[0m\u001b[1;34m\"status line\"\u001b[0m\u001b[1;33m)\u001b[0m\u001b[1;33m\u001b[0m\u001b[1;33m\u001b[0m\u001b[0m\n",
      "\u001b[1;32md:\\python\\lib\\socket.py\u001b[0m in \u001b[0;36mreadinto\u001b[1;34m(self, b)\u001b[0m\n\u001b[0;32m    702\u001b[0m         \u001b[1;32mwhile\u001b[0m \u001b[1;32mTrue\u001b[0m\u001b[1;33m:\u001b[0m\u001b[1;33m\u001b[0m\u001b[1;33m\u001b[0m\u001b[0m\n\u001b[0;32m    703\u001b[0m             \u001b[1;32mtry\u001b[0m\u001b[1;33m:\u001b[0m\u001b[1;33m\u001b[0m\u001b[1;33m\u001b[0m\u001b[0m\n\u001b[1;32m--> 704\u001b[1;33m                 \u001b[1;32mreturn\u001b[0m \u001b[0mself\u001b[0m\u001b[1;33m.\u001b[0m\u001b[0m_sock\u001b[0m\u001b[1;33m.\u001b[0m\u001b[0mrecv_into\u001b[0m\u001b[1;33m(\u001b[0m\u001b[0mb\u001b[0m\u001b[1;33m)\u001b[0m\u001b[1;33m\u001b[0m\u001b[1;33m\u001b[0m\u001b[0m\n\u001b[0m\u001b[0;32m    705\u001b[0m             \u001b[1;32mexcept\u001b[0m \u001b[0mtimeout\u001b[0m\u001b[1;33m:\u001b[0m\u001b[1;33m\u001b[0m\u001b[1;33m\u001b[0m\u001b[0m\n\u001b[0;32m    706\u001b[0m                 \u001b[0mself\u001b[0m\u001b[1;33m.\u001b[0m\u001b[0m_timeout_occurred\u001b[0m \u001b[1;33m=\u001b[0m \u001b[1;32mTrue\u001b[0m\u001b[1;33m\u001b[0m\u001b[1;33m\u001b[0m\u001b[0m\n",
      "\u001b[1;31mKeyboardInterrupt\u001b[0m: "
     ]
    }
   ],
   "source": [
    "if __name__ == \"__main__\": #calling the main function\n",
    "    main()"
   ]
  }
 ],
 "metadata": {
  "kernelspec": {
   "display_name": "Python 3",
   "language": "python",
   "name": "python3"
  },
  "language_info": {
   "codemirror_mode": {
    "name": "ipython",
    "version": 3
   },
   "file_extension": ".py",
   "mimetype": "text/x-python",
   "name": "python",
   "nbconvert_exporter": "python",
   "pygments_lexer": "ipython3",
   "version": "3.9.2"
  }
 },
 "nbformat": 4,
 "nbformat_minor": 5
}
